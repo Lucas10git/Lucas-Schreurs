{
 "cells": [
  {
   "cell_type": "markdown",
   "id": "2100297f-397e-4b8f-8975-12eaf5bb0336",
   "metadata": {},
   "source": [
    "Code to create a filtered and balanced HAM10000 dataset"
   ]
  },
  {
   "cell_type": "code",
   "execution_count": 1,
   "id": "a1cbb845-c430-47cb-a365-a627f9811f4f",
   "metadata": {},
   "outputs": [],
   "source": [
    "import os\n",
    "import pandas as pd\n",
    "import shutil\n",
    "import numpy as np\n",
    "import matplotlib.pyplot as plt"
   ]
  },
  {
   "cell_type": "code",
   "execution_count": 2,
   "id": "21df077a-4b17-498b-b994-9d5699f2a187",
   "metadata": {},
   "outputs": [],
   "source": [
    "# Paths\n",
    "image_dir = 'C:/Desktop Oud/tilburg/leerjaar 4/Thesis/HAM10000 dataset/combined'\n",
    "metadata_file = 'C:/Desktop Oud/tilburg/leerjaar 4/Thesis/HAM10000 dataset/Data/HAM10000_metadata.csv'\n",
    "output_dir = 'C:/Desktop Oud/tilburg/leerjaar 4/Thesis/HAM10000_balanced_nv_mel_equal_gender'\n",
    "filtered_metadata_file = os.path.join(output_dir, 'HAM10000_filtered_metadata.csv')"
   ]
  },
  {
   "cell_type": "code",
   "execution_count": 3,
   "id": "f98e3cf2-70a2-4771-a970-4425e3c54329",
   "metadata": {},
   "outputs": [
    {
     "name": "stdout",
     "output_type": "stream",
     "text": [
      "Images are saved and balanced\n",
      "Filtered metadata saved in C:/Desktop Oud/tilburg/leerjaar 4/Thesis/HAM10000_balanced_nv_mel_equal_gender\\HAM10000_filtered_metadata.csv\n"
     ]
    }
   ],
   "source": [
    "# creating output directories\n",
    "benign_dir = os.path.join(output_dir, 'Benign')\n",
    "malignant_dir = os.path.join(output_dir, 'Malignant')\n",
    "os.makedirs(benign_dir, exist_ok=True)\n",
    "os.makedirs(malignant_dir, exist_ok=True)\n",
    "\n",
    "metadata = pd.read_csv(metadata_file)\n",
    "\n",
    "# delete rows if sex == 'unknown'\n",
    "metadata = metadata[metadata['sex'] != 'unknown']\n",
    "\n",
    "# Filter the 'nv' and 'mel' rows\n",
    "nv_images = metadata[metadata['dx'] == 'nv']\n",
    "mel_images = metadata[metadata['dx'] == 'mel']\n",
    "\n",
    "# equal amount of images for male and female images\n",
    "nv_min_gender_count = min(len(nv_images[nv_images['sex'] == 'female']), len(nv_images[nv_images['sex'] == 'male']))\n",
    "mel_min_gender_count = min(len(mel_images[mel_images['sex'] == 'female']), len(mel_images[mel_images['sex'] == 'male']))\n",
    "\n",
    "final_min_count = min(nv_min_gender_count, mel_min_gender_count)\n",
    "\n",
    "# Balance each gender for each class\n",
    "nv_balanced = pd.concat([\n",
    "    nv_images[nv_images['sex'] == 'female'].sample(n=final_min_count, random_state=42),\n",
    "    nv_images[nv_images['sex'] == 'male'].sample(n=final_min_count, random_state=42)\n",
    "])\n",
    "\n",
    "mel_balanced = pd.concat([\n",
    "    mel_images[mel_images['sex'] == 'female'].sample(n=final_min_count, random_state=42),\n",
    "    mel_images[mel_images['sex'] == 'male'].sample(n=final_min_count, random_state=42)\n",
    "])\n",
    "\n",
    "# Save balanced metadata \n",
    "balanced_metadata = pd.concat([nv_balanced, mel_balanced])\n",
    "\n",
    "# Copy to their folders\n",
    "for index, row in balanced_metadata.iterrows():\n",
    "    image_id = row['image_id'] + '.jpg'  \n",
    "    image_path = os.path.join(image_dir, image_id)\n",
    "\n",
    "    \n",
    "    if os.path.exists(image_path):\n",
    "        if row['dx'] == 'nv':\n",
    "            \n",
    "            shutil.copy(image_path, benign_dir)\n",
    "        elif row['dx'] == 'mel':\n",
    "            \n",
    "            shutil.copy(image_path, malignant_dir)\n",
    "\n",
    "# Save bakanced metadata as CSV\n",
    "balanced_metadata.to_csv(filtered_metadata_file, index=False)\n",
    "print(f\"Images are saved and balanced\")\n",
    "print(f\"Filtered metadata saved in {filtered_metadata_file}\")"
   ]
  },
  {
   "cell_type": "code",
   "execution_count": 4,
   "id": "4ce53484-ce34-4102-97d8-6bcfa61132f9",
   "metadata": {},
   "outputs": [
    {
     "name": "stdout",
     "output_type": "stream",
     "text": [
      "Total images in Benign class: 848\n",
      "Total images in Malignant class: 848\n"
     ]
    }
   ],
   "source": [
    "# Count total images in each folder\n",
    "benign_count = len(os.listdir(benign_dir))\n",
    "malignant_count = len(os.listdir(malignant_dir))\n",
    "\n",
    "print(f\"Total images in Benign class: {benign_count}\")\n",
    "print(f\"Total images in Malignant class: {malignant_count}\")\n",
    "\n",
    "# Controleer dat beide klassen gelijk zijn\n",
    "assert benign_count == malignant_count, \"Total images in Benign and Malignant classes not equal\""
   ]
  },
  {
   "cell_type": "code",
   "execution_count": 5,
   "id": "23e28f27-b142-4da6-99ab-5e236638192c",
   "metadata": {},
   "outputs": [
    {
     "name": "stdout",
     "output_type": "stream",
     "text": [
      "Total images in Benign class: 848\n",
      "Total images in Malignant class: 848\n"
     ]
    }
   ],
   "source": [
    "# Paths to the new balanced folders\n",
    "benign_dir = 'C:/Desktop Oud/tilburg/leerjaar 4/Thesis/HAM10000_balanced_nv_mel_equal_gender/Benign'\n",
    "malignant_dir = 'C:/Desktop Oud/tilburg/leerjaar 4/Thesis/HAM10000_balanced_nv_mel_equal_gender/Malignant'\n",
    "\n",
    "# Count again\n",
    "benign_count = len(os.listdir(benign_dir))\n",
    "malignant_count = len(os.listdir(malignant_dir))\n",
    "\n",
    "print(f\"Total images in Benign class: {benign_count}\")\n",
    "print(f\"Total images in Malignant class: {malignant_count}\")\n"
   ]
  },
  {
   "cell_type": "code",
   "execution_count": 7,
   "id": "7c1ebc26-c3a9-4b98-beab-1ff6c1c0ac71",
   "metadata": {},
   "outputs": [
    {
     "data": {
      "image/png": "[encoded data removed]",
      "text/plain": [
       "<Figure size 576x360 with 1 Axes>"
      ]
     },
     "metadata": {
      "needs_background": "light"
     },
     "output_type": "display_data"
    }
   ],
   "source": [
    "# Plot for new balanced data\n",
    "class_counts = balanced_metadata['dx'].value_counts()\n",
    "plt.figure(figsize=(8, 5))\n",
    "class_counts.plot(kind='bar', color=['blue', 'red'])\n",
    "plt.title(\"Class Distribution (Benign vs Malignant)\")\n",
    "plt.xlabel(\"Class\")\n",
    "plt.ylabel(\"Frequency\")\n",
    "plt.xticks(rotation=0)\n",
    "plt.show()"
   ]
  },
  {
   "cell_type": "code",
   "execution_count": 10,
   "id": "479e7245-e389-49c2-a754-f9a124cc3de4",
   "metadata": {},
   "outputs": [
    {
     "name": "stdout",
     "output_type": "stream",
     "text": [
      "Total images for each class and gender:\n",
      "sex  female  male\n",
      "dx               \n",
      "mel     424   424\n",
      "nv      424   424\n"
     ]
    },
    {
     "data": {
      "image/png": "[encoded data removed]",
      "text/plain": [
       "<Figure size 720x432 with 1 Axes>"
      ]
     },
     "metadata": {
      "needs_background": "light"
     },
     "output_type": "display_data"
    },
    {
     "name": "stdout",
     "output_type": "stream",
     "text": [
      "\n",
      "Percentage for each class and gender:\n",
      "sex  female  male\n",
      "dx               \n",
      "mel    50.0  50.0\n",
      "nv     50.0  50.0\n"
     ]
    }
   ],
   "source": [
    "# Gender distribution for male and female\n",
    "gender_class_counts = balanced_metadata.groupby(['dx', 'sex']).size().unstack(fill_value=0)\n",
    "print(\"Total images for each class and gender:\")\n",
    "print(gender_class_counts)\n",
    "\n",
    "# Plot\n",
    "gender_class_counts.plot(kind='bar', stacked=True, figsize=(10, 6), color=['lightblue', 'pink'])\n",
    "plt.title(\"Gender Distribution by Class in HAM10000 Filtered Dataset (Absolute)\")\n",
    "plt.xlabel(\"Class\")\n",
    "plt.ylabel(\"Frequency\")\n",
    "plt.legend(title=\"Gender\", labels=[\"Male\", \"Female\"])\n",
    "plt.show()\n",
    "\n",
    "# Percentages for each gender for each class\n",
    "gender_percentage = gender_class_counts.div(gender_class_counts.sum(axis=1), axis=0) * 100\n",
    "print(\"\\nPercentage for each class and gender:\")\n",
    "print(gender_percentage)\n"
   ]
  }
 ],
 "metadata": {
  "kernelspec": {
   "display_name": "Python 3",
   "language": "python",
   "name": "python3"
  },
  "language_info": {
   "codemirror_mode": {
    "name": "ipython",
    "version": 3
   },
   "file_extension": ".py",
   "mimetype": "text/x-python",
   "name": "python",
   "nbconvert_exporter": "python",
   "pygments_lexer": "ipython3",
   "version": "3.8.8"
  }
 },
 "nbformat": 4,
 "nbformat_minor": 5
}
